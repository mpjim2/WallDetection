{
 "cells": [
  {
   "cell_type": "code",
   "execution_count": 1,
   "id": "af6cf0bf",
   "metadata": {},
   "outputs": [],
   "source": [
    "import numpy as np\n",
    "x = np.zeros((10,10))"
   ]
  },
  {
   "cell_type": "code",
   "execution_count": 2,
   "id": "0f74bed8",
   "metadata": {},
   "outputs": [],
   "source": [
    "for i in range(x.shape[0]):\n",
    "    for j in range(x.shape[1]):\n",
    "        if np.random.rand() >= 0.5:\n",
    "            x[i,j] = 1"
   ]
  },
  {
   "cell_type": "code",
   "execution_count": 3,
   "id": "a9f3db00",
   "metadata": {},
   "outputs": [
    {
     "data": {
      "text/plain": [
       "array([[0., 0., 0., 0., 0., 1., 1., 0., 0., 0.],\n",
       "       [0., 0., 0., 1., 0., 1., 1., 1., 0., 1.],\n",
       "       [1., 0., 1., 0., 1., 1., 1., 0., 1., 0.],\n",
       "       [0., 1., 1., 1., 1., 0., 1., 1., 0., 1.],\n",
       "       [0., 1., 0., 0., 0., 0., 0., 1., 0., 0.],\n",
       "       [0., 1., 0., 0., 0., 0., 0., 1., 0., 1.],\n",
       "       [1., 1., 0., 1., 1., 1., 0., 0., 1., 0.],\n",
       "       [1., 1., 1., 1., 0., 1., 0., 0., 1., 1.],\n",
       "       [1., 0., 1., 0., 0., 0., 1., 1., 1., 0.],\n",
       "       [1., 0., 0., 1., 1., 1., 0., 1., 0., 0.]])"
      ]
     },
     "execution_count": 3,
     "metadata": {},
     "output_type": "execute_result"
    }
   ],
   "source": [
    "x"
   ]
  },
  {
   "cell_type": "code",
   "execution_count": 4,
   "id": "e8d521cb",
   "metadata": {},
   "outputs": [],
   "source": [
    "test = np.full((10,10,3), [255, 255, 0])"
   ]
  },
  {
   "cell_type": "code",
   "execution_count": 5,
   "id": "23bf7182",
   "metadata": {},
   "outputs": [
    {
     "data": {
      "text/plain": [
       "array([[[  0.,   0.,   0.],\n",
       "        [  0.,   0.,   0.],\n",
       "        [  0.,   0.,   0.],\n",
       "        [  0.,   0.,   0.],\n",
       "        [  0.,   0.,   0.],\n",
       "        [255., 255.,   0.],\n",
       "        [255., 255.,   0.],\n",
       "        [  0.,   0.,   0.],\n",
       "        [  0.,   0.,   0.],\n",
       "        [  0.,   0.,   0.]],\n",
       "\n",
       "       [[  0.,   0.,   0.],\n",
       "        [  0.,   0.,   0.],\n",
       "        [  0.,   0.,   0.],\n",
       "        [255., 255.,   0.],\n",
       "        [  0.,   0.,   0.],\n",
       "        [255., 255.,   0.],\n",
       "        [255., 255.,   0.],\n",
       "        [255., 255.,   0.],\n",
       "        [  0.,   0.,   0.],\n",
       "        [255., 255.,   0.]],\n",
       "\n",
       "       [[255., 255.,   0.],\n",
       "        [  0.,   0.,   0.],\n",
       "        [255., 255.,   0.],\n",
       "        [  0.,   0.,   0.],\n",
       "        [255., 255.,   0.],\n",
       "        [255., 255.,   0.],\n",
       "        [255., 255.,   0.],\n",
       "        [  0.,   0.,   0.],\n",
       "        [255., 255.,   0.],\n",
       "        [  0.,   0.,   0.]],\n",
       "\n",
       "       [[  0.,   0.,   0.],\n",
       "        [255., 255.,   0.],\n",
       "        [255., 255.,   0.],\n",
       "        [255., 255.,   0.],\n",
       "        [255., 255.,   0.],\n",
       "        [  0.,   0.,   0.],\n",
       "        [255., 255.,   0.],\n",
       "        [255., 255.,   0.],\n",
       "        [  0.,   0.,   0.],\n",
       "        [255., 255.,   0.]],\n",
       "\n",
       "       [[  0.,   0.,   0.],\n",
       "        [255., 255.,   0.],\n",
       "        [  0.,   0.,   0.],\n",
       "        [  0.,   0.,   0.],\n",
       "        [  0.,   0.,   0.],\n",
       "        [  0.,   0.,   0.],\n",
       "        [  0.,   0.,   0.],\n",
       "        [255., 255.,   0.],\n",
       "        [  0.,   0.,   0.],\n",
       "        [  0.,   0.,   0.]],\n",
       "\n",
       "       [[  0.,   0.,   0.],\n",
       "        [255., 255.,   0.],\n",
       "        [  0.,   0.,   0.],\n",
       "        [  0.,   0.,   0.],\n",
       "        [  0.,   0.,   0.],\n",
       "        [  0.,   0.,   0.],\n",
       "        [  0.,   0.,   0.],\n",
       "        [255., 255.,   0.],\n",
       "        [  0.,   0.,   0.],\n",
       "        [255., 255.,   0.]],\n",
       "\n",
       "       [[255., 255.,   0.],\n",
       "        [255., 255.,   0.],\n",
       "        [  0.,   0.,   0.],\n",
       "        [255., 255.,   0.],\n",
       "        [255., 255.,   0.],\n",
       "        [255., 255.,   0.],\n",
       "        [  0.,   0.,   0.],\n",
       "        [  0.,   0.,   0.],\n",
       "        [255., 255.,   0.],\n",
       "        [  0.,   0.,   0.]],\n",
       "\n",
       "       [[255., 255.,   0.],\n",
       "        [255., 255.,   0.],\n",
       "        [255., 255.,   0.],\n",
       "        [255., 255.,   0.],\n",
       "        [  0.,   0.,   0.],\n",
       "        [255., 255.,   0.],\n",
       "        [  0.,   0.,   0.],\n",
       "        [  0.,   0.,   0.],\n",
       "        [255., 255.,   0.],\n",
       "        [255., 255.,   0.]],\n",
       "\n",
       "       [[255., 255.,   0.],\n",
       "        [  0.,   0.,   0.],\n",
       "        [255., 255.,   0.],\n",
       "        [  0.,   0.,   0.],\n",
       "        [  0.,   0.,   0.],\n",
       "        [  0.,   0.,   0.],\n",
       "        [255., 255.,   0.],\n",
       "        [255., 255.,   0.],\n",
       "        [255., 255.,   0.],\n",
       "        [  0.,   0.,   0.]],\n",
       "\n",
       "       [[255., 255.,   0.],\n",
       "        [  0.,   0.,   0.],\n",
       "        [  0.,   0.,   0.],\n",
       "        [255., 255.,   0.],\n",
       "        [255., 255.,   0.],\n",
       "        [255., 255.,   0.],\n",
       "        [  0.,   0.,   0.],\n",
       "        [255., 255.,   0.],\n",
       "        [  0.,   0.,   0.],\n",
       "        [  0.,   0.,   0.]]])"
      ]
     },
     "execution_count": 5,
     "metadata": {},
     "output_type": "execute_result"
    }
   ],
   "source": [
    "test * np.stack([x for _ in range(test.shape[-1])], axis=-1)"
   ]
  },
  {
   "cell_type": "code",
   "execution_count": 6,
   "id": "a6e0b32f",
   "metadata": {},
   "outputs": [
    {
     "data": {
      "text/plain": [
       "(10, 10)"
      ]
     },
     "execution_count": 6,
     "metadata": {},
     "output_type": "execute_result"
    }
   ],
   "source": [
    "x.shape"
   ]
  },
  {
   "cell_type": "code",
   "execution_count": 7,
   "id": "94e0ba10",
   "metadata": {},
   "outputs": [],
   "source": [
    "x_flat = x.reshape((x.shape[0] * x.shape[1]))"
   ]
  },
  {
   "cell_type": "code",
   "execution_count": 8,
   "id": "5e8acd45",
   "metadata": {},
   "outputs": [
    {
     "data": {
      "text/plain": [
       "(100,)"
      ]
     },
     "execution_count": 8,
     "metadata": {},
     "output_type": "execute_result"
    }
   ],
   "source": [
    "x_flat.shape"
   ]
  },
  {
   "cell_type": "code",
   "execution_count": 9,
   "id": "3515b044",
   "metadata": {},
   "outputs": [],
   "source": [
    "idcs = np.where(x_flat)"
   ]
  },
  {
   "cell_type": "code",
   "execution_count": 10,
   "id": "9fefdb56",
   "metadata": {},
   "outputs": [
    {
     "data": {
      "text/plain": [
       "(array([ 5,  6, 13, 15, 16, 17, 19, 20, 22, 24, 25, 26, 28, 31, 32, 33, 34,\n",
       "        36, 37, 39, 41, 47, 51, 57, 59, 60, 61, 63, 64, 65, 68, 70, 71, 72,\n",
       "        73, 75, 78, 79, 80, 82, 86, 87, 88, 90, 93, 94, 95, 97]),)"
      ]
     },
     "execution_count": 10,
     "metadata": {},
     "output_type": "execute_result"
    }
   ],
   "source": [
    "idcs"
   ]
  },
  {
   "cell_type": "code",
   "execution_count": 11,
   "id": "d65a9a42",
   "metadata": {},
   "outputs": [],
   "source": [
    "res = np.zeros(x.shape)\n",
    "res = res.reshape((res.shape[0]*res.shape[1]))\n",
    "\n",
    "fill = np.random.randint(4, 8, idcs[0].shape)"
   ]
  },
  {
   "cell_type": "code",
   "execution_count": 12,
   "id": "ac0823e5",
   "metadata": {},
   "outputs": [],
   "source": [
    "res[idcs] = fill"
   ]
  },
  {
   "cell_type": "code",
   "execution_count": 13,
   "id": "5d849fd8",
   "metadata": {},
   "outputs": [
    {
     "data": {
      "text/plain": [
       "array([[0., 0., 0., 0., 0., 7., 7., 0., 0., 0.],\n",
       "       [0., 0., 0., 5., 0., 6., 7., 7., 0., 4.],\n",
       "       [6., 0., 7., 0., 7., 6., 7., 0., 4., 0.],\n",
       "       [0., 4., 6., 5., 7., 0., 7., 6., 0., 4.],\n",
       "       [0., 5., 0., 0., 0., 0., 0., 4., 0., 0.],\n",
       "       [0., 6., 0., 0., 0., 0., 0., 5., 0., 4.],\n",
       "       [7., 6., 0., 7., 6., 7., 0., 0., 7., 0.],\n",
       "       [6., 7., 4., 4., 0., 5., 0., 0., 6., 6.],\n",
       "       [6., 0., 4., 0., 0., 0., 5., 5., 4., 0.],\n",
       "       [7., 0., 0., 4., 6., 6., 0., 4., 0., 0.]])"
      ]
     },
     "execution_count": 13,
     "metadata": {},
     "output_type": "execute_result"
    }
   ],
   "source": [
    "res.reshape((10,10))"
   ]
  },
  {
   "cell_type": "code",
   "execution_count": null,
   "id": "75fa9acc",
   "metadata": {},
   "outputs": [],
   "source": []
  },
  {
   "cell_type": "code",
   "execution_count": 14,
   "id": "bcd48f03",
   "metadata": {},
   "outputs": [],
   "source": [
    "l = [i for i in range(10)]"
   ]
  },
  {
   "cell_type": "code",
   "execution_count": 15,
   "id": "d4a41415",
   "metadata": {},
   "outputs": [
    {
     "data": {
      "text/plain": [
       "[0, 1, 2, 3, 4, 5, 6, 7, 8, 9]"
      ]
     },
     "execution_count": 15,
     "metadata": {},
     "output_type": "execute_result"
    }
   ],
   "source": [
    "l"
   ]
  },
  {
   "cell_type": "code",
   "execution_count": 16,
   "id": "c5752705",
   "metadata": {},
   "outputs": [
    {
     "ename": "TypeError",
     "evalue": "can only concatenate list (not \"int\") to list",
     "output_type": "error",
     "traceback": [
      "\u001b[0;31m---------------------------------------------------------------------------\u001b[0m",
      "\u001b[0;31mTypeError\u001b[0m                                 Traceback (most recent call last)",
      "Input \u001b[0;32mIn [16]\u001b[0m, in \u001b[0;36m<cell line: 1>\u001b[0;34m()\u001b[0m\n\u001b[0;32m----> 1\u001b[0m \u001b[43ml\u001b[49m\u001b[38;5;241;43m+\u001b[39;49m\u001b[38;5;241;43m1\u001b[39;49m\n",
      "\u001b[0;31mTypeError\u001b[0m: can only concatenate list (not \"int\") to list"
     ]
    }
   ],
   "source": [
    "l+1"
   ]
  },
  {
   "cell_type": "code",
   "execution_count": null,
   "id": "e1e84e3f",
   "metadata": {},
   "outputs": [],
   "source": [
    "np.where(x==0)"
   ]
  }
 ],
 "metadata": {
  "kernelspec": {
   "display_name": "Python 3 (ipykernel)",
   "language": "python",
   "name": "python3"
  },
  "language_info": {
   "codemirror_mode": {
    "name": "ipython",
    "version": 3
   },
   "file_extension": ".py",
   "mimetype": "text/x-python",
   "name": "python",
   "nbconvert_exporter": "python",
   "pygments_lexer": "ipython3",
   "version": "3.8.10"
  }
 },
 "nbformat": 4,
 "nbformat_minor": 5
}
